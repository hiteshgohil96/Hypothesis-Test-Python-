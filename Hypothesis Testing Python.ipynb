{
 "cells": [
  {
   "cell_type": "code",
   "execution_count": 32,
   "metadata": {
    "collapsed": true
   },
   "outputs": [],
   "source": [
    "import pandas as pd\n",
    "import numpy as np\n",
    "from scipy.stats import ttest_ind"
   ]
  },
  {
   "cell_type": "markdown",
   "metadata": {},
   "source": [
    "# Hypothesis Testing\n",
    "\n",
    "Definitions:\n",
    "* A _quarter_ is a specific three month period, Q1 is January through March, Q2 is April through June, Q3 is July through September, Q4 is October through December.\n",
    "* A _recession_ is defined as starting with two consecutive quarters of GDP decline, and ending with two consecutive quarters of GDP growth.\n",
    "* A _recession bottom_ is the quarter within a recession which had the lowest GDP.\n",
    "* A _university town_ is a city which has a high percentage of university students compared to the total population of the city.\n",
    "\n",
    "**Hypothesis**: University towns have their mean housing prices less effected by recessions. Run a t-test to compare the ratio of the mean price of houses in university towns the quarter before the recession starts compared to the recession bottom. (`price_ratio=quarter_before_recession/recession_bottom`)\n",
    "\n",
    "The following data files are available for this assignment:\n",
    "* From the [Zillow research data site](http://www.zillow.com/research/data/) there is housing data for the United States. In particular the datafile for [all homes at a city level](http://files.zillowstatic.com/research/public/City/City_Zhvi_AllHomes.csv), ```City_Zhvi_AllHomes.csv```, has median home sale prices at a fine grained level.\n",
    "* From the Wikipedia page on college towns is a list of [university towns in the United States](https://en.wikipedia.org/wiki/List_of_college_towns#College_towns_in_the_United_States) which has been copy and pasted into the file ```university_towns.txt```.\n",
    "* From Bureau of Economic Analysis, US Department of Commerce, the [GDP over time](http://www.bea.gov/national/index.htm#gdp) of the United States in current dollars (use the chained value in 2009 dollars), in quarterly intervals, in the file ```gdplev.xls```. For this assignment, only look at GDP data from the first quarter of 2000 onward.\n"
   ]
  },
  {
   "cell_type": "code",
   "execution_count": 33,
   "metadata": {
    "collapsed": true
   },
   "outputs": [],
   "source": [
    "# Use this dictionary to map state names to two letter acronyms\n",
    "states = {'OH': 'Ohio', 'KY': 'Kentucky', 'AS': 'American Samoa', 'NV': 'Nevada', 'WY': 'Wyoming', 'NA': 'National', 'AL': 'Alabama', 'MD': 'Maryland', 'AK': 'Alaska', 'UT': 'Utah', 'OR': 'Oregon', 'MT': 'Montana', 'IL': 'Illinois', 'TN': 'Tennessee', 'DC': 'District of Columbia', 'VT': 'Vermont', 'ID': 'Idaho', 'AR': 'Arkansas', 'ME': 'Maine', 'WA': 'Washington', 'HI': 'Hawaii', 'WI': 'Wisconsin', 'MI': 'Michigan', 'IN': 'Indiana', 'NJ': 'New Jersey', 'AZ': 'Arizona', 'GU': 'Guam', 'MS': 'Mississippi', 'PR': 'Puerto Rico', 'NC': 'North Carolina', 'TX': 'Texas', 'SD': 'South Dakota', 'MP': 'Northern Mariana Islands', 'IA': 'Iowa', 'MO': 'Missouri', 'CT': 'Connecticut', 'WV': 'West Virginia', 'SC': 'South Carolina', 'LA': 'Louisiana', 'KS': 'Kansas', 'NY': 'New York', 'NE': 'Nebraska', 'OK': 'Oklahoma', 'FL': 'Florida', 'CA': 'California', 'CO': 'Colorado', 'PA': 'Pennsylvania', 'DE': 'Delaware', 'NM': 'New Mexico', 'RI': 'Rhode Island', 'MN': 'Minnesota', 'VI': 'Virgin Islands', 'NH': 'New Hampshire', 'MA': 'Massachusetts', 'GA': 'Georgia', 'ND': 'North Dakota', 'VA': 'Virginia'}"
   ]
  },
  {
   "cell_type": "code",
   "execution_count": 34,
   "metadata": {
    "collapsed": true,
    "umich_part_id": "021",
    "umich_partlist_id": "004"
   },
   "outputs": [],
   "source": [
    "def get_list_of_university_towns():\n",
    "    \n",
    "    '''Returns a DataFrame of towns and the states they are in from the \n",
    "    university_towns.txt list. The format of the DataFrame should be:\n",
    "    DataFrame( [ [\"Michigan\", \"Ann Arbor\"], [\"Michigan\", \"Yipsilanti\"] ], \n",
    "    columns=[\"State\", \"RegionName\"]  )\n",
    "    \n",
    "    The following cleaning needs to be done:\n",
    "\n",
    "    1. For \"State\", removing characters from \"[\" to the end.\n",
    "    2. For \"RegionName\", when applicable, removing every character from \" (\" to the end.\n",
    "    3. Depending on how you read the data, you may need to remove newline character '\\n'. '''\n",
    "    \n",
    "    # READ; as per lines\n",
    "\n",
    "    dx = open('university_towns.txt','r')\n",
    "    df = dx.readlines()\n",
    "\n",
    "\n",
    "\n",
    "    lst = []\n",
    "\n",
    "    # WHY seperate string??\n",
    "\n",
    "    # state = ''\n",
    "    # region = ''\n",
    "    #print (df)\n",
    "    for val in df: \n",
    "        \n",
    "        # STATE has EDIT\n",
    "        if (\"[edit]\" in val):\n",
    "            x = val.split('[edit]')\n",
    "            state = x[0] \n",
    "\n",
    "        else:\n",
    "        # if not EDIT: consider REGION\n",
    "            a = val.split(' (')\n",
    "            region = a[0]\n",
    "            lst.append([state,region])\n",
    "\n",
    "\n",
    "    dff = pd.DataFrame(lst, columns = ['State','RegionName'])\n",
    "    \n",
    "\n",
    "    return dff\n"
   ]
  },
  {
   "cell_type": "code",
   "execution_count": 37,
   "metadata": {
    "umich_part_id": "022",
    "umich_partlist_id": "004"
   },
   "outputs": [
    {
     "data": {
      "text/plain": [
       "'2008q3'"
      ]
     },
     "execution_count": 37,
     "metadata": {},
     "output_type": "execute_result"
    }
   ],
   "source": [
    "def get_recession_start():\n",
    "    '''Returns the year and quarter of the recession start time as a \n",
    "    string value in a format such as 2005q3'''\n",
    "    \n",
    "    df = pd.read_excel('gdplev.xls', skiprows = 5)\n",
    "    # col: RENAME\n",
    "    df.rename(columns = {'Unnamed: 0': 0,'Unnamed: 4' : 'Quarter', 'GDP in billions of chained 2009 dollars.1':'GDP 2009'},inplace = True)\n",
    "\n",
    "    #col: DROP\n",
    "    df.drop(['Unnamed: 3','Unnamed: 7','GDP in billions of current dollars.1'], axis = 1, inplace =True)\n",
    "\n",
    "    #req :QUARTER >= 2000 \n",
    "    df = df[df['Quarter'] >= '2000q1']\n",
    "\n",
    "    #col : DROP\n",
    "    df = df.iloc[:,3:].reset_index()\n",
    "\n",
    "    #reset: INDEX\n",
    "    gdp = df.drop(['index'], axis = 1)\n",
    "    gdp\n",
    "    \n",
    "    for i in range(len(gdp)):\n",
    "        \n",
    "        #len(gdp) = 65 \n",
    "        # if i =65 then condition not fullfilled.\n",
    "        if i != 65:\n",
    "            if gdp.loc[i]['GDP 2009']>gdp.loc[i+1]['GDP 2009'] > gdp.loc[i+2]['GDP 2009'] > gdp.loc[i+3]['GDP 2009'] < gdp.loc[i+4]['GDP 2009']:\n",
    "                start=gdp.loc[i]['Quarter']\n",
    "                \n",
    "    return start\n"
   ]
  },
  {
   "cell_type": "code",
   "execution_count": 39,
   "metadata": {
    "umich_part_id": "023",
    "umich_partlist_id": "004"
   },
   "outputs": [
    {
     "data": {
      "text/plain": [
       "'2009q4'"
      ]
     },
     "execution_count": 39,
     "metadata": {},
     "output_type": "execute_result"
    }
   ],
   "source": [
    "def get_recession_end():\n",
    "    '''Returns the year and quarter of the recession end time as a \n",
    "    string value in a format such as 2005q3'''\n",
    "\n",
    "\n",
    "    df = pd.read_excel('gdplev.xls', skiprows = 5)\n",
    "    # col: RENAME\n",
    "    df.rename(columns = {'Unnamed: 0': 0,'Unnamed: 4' : 'Quarter', 'GDP in billions of chained 2009 dollars.1':'GDP 2009'},inplace = True)\n",
    "\n",
    "    #col: DROP\n",
    "    df.drop(['Unnamed: 3','Unnamed: 7','GDP in billions of current dollars.1'], axis = 1, inplace =True)\n",
    "\n",
    "    #req :QUARTER >= 2000 \n",
    "    df = df[df['Quarter'] >= '2000q1']\n",
    "\n",
    "    #col : DROP\n",
    "    df = df.iloc[:,3:].reset_index()\n",
    "\n",
    "    #reset: INDEX\n",
    "    gdp = df.drop(['index'], axis = 1)\n",
    "    gdp\n",
    "\n",
    "    df_2008 = gdp[gdp['Quarter'] >= '2008q3']\n",
    "    df_2008.reset_index(inplace = True)\n",
    "    #print(df_2008)\n",
    "\n",
    "    #RECESSION END; when consecutive GDP is +ve.\n",
    "    for i in range(len(df_2008)):\n",
    "        if df_2008.loc[i+1]['GDP 2009'] - df_2008.loc[i]['GDP 2009']  > 0:\n",
    "            end = df_2008.loc[i+2]['Quarter']\n",
    "            break\n",
    "    return end"
   ]
  },
  {
   "cell_type": "code",
   "execution_count": 40,
   "metadata": {
    "collapsed": true,
    "scrolled": true,
    "umich_part_id": "024",
    "umich_partlist_id": "004"
   },
   "outputs": [],
   "source": [
    "def get_recession_bottom():\n",
    "    '''Returns the year and quarter of the recession bottom time as a \n",
    "    string value in a format such as 2005q3'''\n",
    "    \n",
    "    df = pd.read_excel('gdplev.xls', skiprows = 5)\n",
    "    # col: RENAME\n",
    "    df.rename(columns = {'Unnamed: 0': 0,'Unnamed: 4' : 'Quarter', 'GDP in billions of chained 2009 dollars.1':'GDP 2009'},inplace = True)\n",
    "\n",
    "    #col: DROP\n",
    "    df.drop(['Unnamed: 3','Unnamed: 7','GDP in billions of current dollars.1'], axis = 1, inplace =True)\n",
    "\n",
    "    #req :QUARTER >= 2000 \n",
    "    df = df[df['Quarter'] >= '2000q1']\n",
    "\n",
    "    #col : DROP\n",
    "    df = df.iloc[:,3:].reset_index()\n",
    "\n",
    "    #reset: INDEX\n",
    "    gdp = df.drop(['index'], axis = 1)\n",
    "    gdp\n",
    "    for i in range(len(df_2008)):\n",
    "        if df_2008.loc[i]['GDP 2009'] - df_2008.loc[i+1]['GDP 2009'] < 0:\n",
    "            bottom = df_2008.loc[i]['Quarter']\n",
    "            break\n",
    "    return bottom"
   ]
  },
  {
   "cell_type": "code",
   "execution_count": 41,
   "metadata": {
    "collapsed": true,
    "umich_part_id": "025",
    "umich_partlist_id": "004"
   },
   "outputs": [],
   "source": [
    "def convert_housing_data_to_quarters():\n",
    "    '''Converts the housing data to quarters and returns it as mean \n",
    "    values in a dataframe. This dataframe should be a dataframe with\n",
    "    columns for 2000q1 through 2016q3, and should have a multi-index\n",
    "    in the shape of [\"State\",\"RegionName\"].\n",
    "    \n",
    "    Note: Quarters are defined in the assignment description, they are\n",
    "    not arbitrary three month periods.\n",
    "    \n",
    "    The resulting dataframe should have 67 columns, and 10,730 rows.\n",
    "    '''\n",
    "    df = pd.read_csv('City_Zhvi_AllHomes.csv')\n",
    "\n",
    "    # set index\n",
    "    df.set_index(['State','RegionName'], inplace = True)\n",
    "    df.head()\n",
    "\n",
    "    #collect columns from 2001-01 to 2016-01\n",
    "    df = df.loc[:,'2000-01':]\n",
    "    df.head()\n",
    "\n",
    "    # MAP; state names to two letter acronyms\n",
    "    states = {'OH': 'Ohio', 'KY': 'Kentucky', 'AS': 'American Samoa', 'NV': 'Nevada', 'WY': 'Wyoming', 'NA': 'National', 'AL': 'Alabama', 'MD': 'Maryland', 'AK': 'Alaska', 'UT': 'Utah', 'OR': 'Oregon', 'MT': 'Montana', 'IL': 'Illinois', 'TN': 'Tennessee', 'DC': 'District of Columbia', 'VT': 'Vermont', 'ID': 'Idaho', 'AR': 'Arkansas', 'ME': 'Maine', 'WA': 'Washington', 'HI': 'Hawaii', 'WI': 'Wisconsin', 'MI': 'Michigan', 'IN': 'Indiana', 'NJ': 'New Jersey', 'AZ': 'Arizona', 'GU': 'Guam', 'MS': 'Mississippi', 'PR': 'Puerto Rico', 'NC': 'North Carolina', 'TX': 'Texas', 'SD': 'South Dakota', 'MP': 'Northern Mariana Islands', 'IA': 'Iowa', 'MO': 'Missouri', 'CT': 'Connecticut', 'WV': 'West Virginia', 'SC': 'South Carolina', 'LA': 'Louisiana', 'KS': 'Kansas', 'NY': 'New York', 'NE': 'Nebraska', 'OK': 'Oklahoma', 'FL': 'Florida', 'CA': 'California', 'CO': 'Colorado', 'PA': 'Pennsylvania', 'DE': 'Delaware', 'NM': 'New Mexico', 'RI': 'Rhode Island', 'MN': 'Minnesota', 'VI': 'Virgin Islands', 'NH': 'New Hampshire', 'MA': 'Massachusetts', 'GA': 'Georgia', 'ND': 'North Dakota', 'VA': 'Virginia'}\n",
    "\n",
    "    df.reset_index(inplace =True)\n",
    "    df.replace({'State':states}, inplace = True)\n",
    "    df.set_index(['State','RegionName'], inplace = True)\n",
    "\n",
    "    # CONVERT; columns to datetime to resample into Quarters and take the mean by axis = 1\n",
    "\n",
    "    df.columns = pd.to_datetime(df.columns)\n",
    "    df = df.apply(pd.to_numeric)\n",
    "    #Q - QUARTER\n",
    "    df = df.resample('Q', axis = 1).mean()\n",
    "\n",
    "    # RENAME; columns to q1,q2,q3,q4\n",
    "    year = 2000\n",
    "    quarter = 1\n",
    "    for column in df:\n",
    "        df.rename(columns={column:str(year)+'q'+str(quarter)}, inplace=True)\n",
    "        if quarter < 4:\n",
    "            quarter += 1\n",
    "        else:\n",
    "            year += 1\n",
    "            quarter = 1\n",
    "    return df"
   ]
  },
  {
   "cell_type": "code",
   "execution_count": 62,
   "metadata": {
    "collapsed": true,
    "umich_part_id": "026",
    "umich_partlist_id": "004"
   },
   "outputs": [],
   "source": [
    "def run_ttest():\n",
    "    '''First creates new data showing the decline or growth of housing prices\n",
    "    between the recession start and the recession bottom. Then runs a ttest\n",
    "    comparing the university town values to the non-university towns values, \n",
    "    return whether the alternative hypothesis (that the two groups are the same)\n",
    "    is true or not as well as the p-value of the confidence. \n",
    "    \n",
    "    Return the tuple (different, p, better) where different=True if the t-test is\n",
    "    True at a p<0.01 (we reject the null hypothesis), or different=False if \n",
    "    otherwise (we cannot reject the null hypothesis). The variable p should\n",
    "    be equal to the exact p value returned from scipy.stats.ttest_ind(). The\n",
    "    value for better should be either \"university town\" or \"non-university town\"\n",
    "    depending on which has a lower mean price ratio (which is equivilent to a\n",
    "    reduced market loss).'''\n",
    "    \n",
    "    df = convert_housing_data_to_quarters()\n",
    "\n",
    "    #price_ratio=quarter_before_recession/recession_bottom\n",
    "    #start/end\n",
    "    start = get_recession_start()\n",
    "    bottom = get_recession_bottom()\n",
    "    end =  get_recession_end()\n",
    "    df = df[['2008q2',bottom]]\n",
    "    df['price_ratio'] = df['2008q2']/df[bottom]\n",
    "    df.reset_index(inplace =True)\n",
    "    df.head()\n",
    "    dx = get_list_of_university_towns()\n",
    "\n",
    "    # housing_Town in Univ_Town (town = regionName) \n",
    "\n",
    "    univ_town = df[df['RegionName'].isin(dx['RegionName'])]\n",
    "    univ_mean = univ_town['price_ratio'].mean()\n",
    "    # housing_Town not in Univ_Town (town = regionName) \n",
    "\n",
    "    non_univ_town = df[-df['RegionName'].isin(dx['RegionName'])]\n",
    "    non_mean = non_univ_town['price_ratio'].mean()\n",
    "\n",
    "\n",
    "    result = ttest_ind(univ_town['price_ratio'], non_univ_town['price_ratio'], nan_policy= 'omit')\n",
    "\n",
    "    p = result[1]\n",
    "    if univ_mean < non_mean:\n",
    "        better = 'university town'\n",
    "    else:\n",
    "        better = 'non-university town'\n",
    "\n",
    "    if result[1] < 0.01:\n",
    "        different = True\n",
    "    else:\n",
    "        different = False\n",
    "\n",
    "    return (different, p, better)"
   ]
  }
 ],
 "metadata": {
  "coursera": {
   "course_slug": "python-data-analysis",
   "graded_item_id": "Il9Fx",
   "launcher_item_id": "TeDW0",
   "part_id": "WGlun"
  },
  "kernelspec": {
   "display_name": "Python 3",
   "language": "python",
   "name": "python3"
  },
  "language_info": {
   "codemirror_mode": {
    "name": "ipython",
    "version": 3
   },
   "file_extension": ".py",
   "mimetype": "text/x-python",
   "name": "python",
   "nbconvert_exporter": "python",
   "pygments_lexer": "ipython3",
   "version": "3.7.1"
  },
  "umich": {
   "id": "Assignment 4",
   "version": "1.1"
  }
 },
 "nbformat": 4,
 "nbformat_minor": 1
}
